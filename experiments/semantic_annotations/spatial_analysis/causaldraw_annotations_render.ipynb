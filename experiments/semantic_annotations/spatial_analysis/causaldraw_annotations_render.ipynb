{
 "cells": [
  {
   "cell_type": "code",
   "execution_count": 1,
   "metadata": {
    "execution": {
     "iopub.execute_input": "2021-07-16T16:13:57.704406Z",
     "iopub.status.busy": "2021-07-16T16:13:57.704001Z",
     "iopub.status.idle": "2021-07-16T16:13:58.189760Z",
     "shell.execute_reply": "2021-07-16T16:13:58.188685Z",
     "shell.execute_reply.started": "2021-07-16T16:13:57.704302Z"
    },
    "tags": []
   },
   "outputs": [],
   "source": [
    "import os\n",
    "import pandas as pd\n",
    "import numpy as np\n",
    "import svgpathtools\n",
    "import cv2\n",
    "import glob\n",
    "\n",
    "from collections import defaultdict\n",
    "from tqdm import tqdm\n",
    "from pathlib import Path\n",
    "from cairosvg import svg2png"
   ]
  },
  {
   "cell_type": "code",
   "execution_count": 2,
   "metadata": {
    "execution": {
     "iopub.execute_input": "2021-07-16T16:13:58.193178Z",
     "iopub.status.busy": "2021-07-16T16:13:58.192997Z",
     "iopub.status.idle": "2021-07-16T16:13:58.228593Z",
     "shell.execute_reply": "2021-07-16T16:13:58.228190Z",
     "shell.execute_reply.started": "2021-07-16T16:13:58.193154Z"
    },
    "tags": []
   },
   "outputs": [
    {
     "data": {
      "text/html": [
       "<div>\n",
       "<style scoped>\n",
       "    .dataframe tbody tr th:only-of-type {\n",
       "        vertical-align: middle;\n",
       "    }\n",
       "\n",
       "    .dataframe tbody tr th {\n",
       "        vertical-align: top;\n",
       "    }\n",
       "\n",
       "    .dataframe thead th {\n",
       "        text-align: right;\n",
       "    }\n",
       "</style>\n",
       "<table border=\"1\" class=\"dataframe\">\n",
       "  <thead>\n",
       "    <tr style=\"text-align: right;\">\n",
       "      <th></th>\n",
       "      <th>sketchID</th>\n",
       "      <th>strokeIndex</th>\n",
       "      <th>condition</th>\n",
       "      <th>orig_gameID</th>\n",
       "      <th>strokeLabel</th>\n",
       "      <th>strokeType</th>\n",
       "      <th>strokeRoiNum</th>\n",
       "      <th>svg</th>\n",
       "      <th>arcLength</th>\n",
       "    </tr>\n",
       "  </thead>\n",
       "  <tbody>\n",
       "    <tr>\n",
       "      <th>0</th>\n",
       "      <td>gears_1.0219-e77f751a-a934-4602-97a0-f2c0bd8bd638</td>\n",
       "      <td>0</td>\n",
       "      <td>explanatory</td>\n",
       "      <td>0219-e77f751a-a934-4602-97a0-f2c0bd8bd638</td>\n",
       "      <td>gear</td>\n",
       "      <td>causal</td>\n",
       "      <td>4.0</td>\n",
       "      <td>M315,266c0,3.66667 0,7.33333 0,11c0,3 0,6 0,9c...</td>\n",
       "      <td>937.999262</td>\n",
       "    </tr>\n",
       "    <tr>\n",
       "      <th>1</th>\n",
       "      <td>gears_1.0219-e77f751a-a934-4602-97a0-f2c0bd8bd638</td>\n",
       "      <td>1</td>\n",
       "      <td>explanatory</td>\n",
       "      <td>0219-e77f751a-a934-4602-97a0-f2c0bd8bd638</td>\n",
       "      <td>gear</td>\n",
       "      <td>causal</td>\n",
       "      <td>3.0</td>\n",
       "      <td>M253,190c16.21414,0 17.30774,1.30774 28,12c2.5...</td>\n",
       "      <td>1450.279985</td>\n",
       "    </tr>\n",
       "    <tr>\n",
       "      <th>2</th>\n",
       "      <td>gears_1.0366-5aa209bd-fda5-4afd-b896-9371d73ab1df</td>\n",
       "      <td>0</td>\n",
       "      <td>depictive</td>\n",
       "      <td>0366-5aa209bd-fda5-4afd-b896-9371d73ab1df</td>\n",
       "      <td>background</td>\n",
       "      <td>background</td>\n",
       "      <td>5.0</td>\n",
       "      <td>M176,245c0,-11.78835 -0.1136,-106.8864 0,-107c...</td>\n",
       "      <td>671.450565</td>\n",
       "    </tr>\n",
       "    <tr>\n",
       "      <th>3</th>\n",
       "      <td>gears_1.0366-5aa209bd-fda5-4afd-b896-9371d73ab1df</td>\n",
       "      <td>1</td>\n",
       "      <td>depictive</td>\n",
       "      <td>0366-5aa209bd-fda5-4afd-b896-9371d73ab1df</td>\n",
       "      <td>gear</td>\n",
       "      <td>functional</td>\n",
       "      <td>1.0</td>\n",
       "      <td>M209,167c-11.32421,0 -26.73795,-4.78615 -31,8c...</td>\n",
       "      <td>252.747348</td>\n",
       "    </tr>\n",
       "    <tr>\n",
       "      <th>4</th>\n",
       "      <td>gears_1.0366-5aa209bd-fda5-4afd-b896-9371d73ab1df</td>\n",
       "      <td>2</td>\n",
       "      <td>depictive</td>\n",
       "      <td>0366-5aa209bd-fda5-4afd-b896-9371d73ab1df</td>\n",
       "      <td>gear</td>\n",
       "      <td>functional</td>\n",
       "      <td>1.0</td>\n",
       "      <td>M201,198c0,0.23509 -3.72683,25.72683 8,14c2.31...</td>\n",
       "      <td>55.661950</td>\n",
       "    </tr>\n",
       "    <tr>\n",
       "      <th>...</th>\n",
       "      <td>...</td>\n",
       "      <td>...</td>\n",
       "      <td>...</td>\n",
       "      <td>...</td>\n",
       "      <td>...</td>\n",
       "      <td>...</td>\n",
       "      <td>...</td>\n",
       "      <td>...</td>\n",
       "      <td>...</td>\n",
       "    </tr>\n",
       "    <tr>\n",
       "      <th>4492</th>\n",
       "      <td>pulleys_2.9810-988306f1-19e0-4158-a007-261fc2d...</td>\n",
       "      <td>8</td>\n",
       "      <td>depictive</td>\n",
       "      <td>9810-988306f1-19e0-4158-a007-261fc2d3ae0b</td>\n",
       "      <td>wheel</td>\n",
       "      <td>functional</td>\n",
       "      <td>3.0</td>\n",
       "      <td>M386,81c-0.66667,0.33333 -1.4274,0.52283 -2,1c...</td>\n",
       "      <td>120.559612</td>\n",
       "    </tr>\n",
       "    <tr>\n",
       "      <th>4493</th>\n",
       "      <td>pulleys_2.9810-988306f1-19e0-4158-a007-261fc2d...</td>\n",
       "      <td>9</td>\n",
       "      <td>depictive</td>\n",
       "      <td>9810-988306f1-19e0-4158-a007-261fc2d3ae0b</td>\n",
       "      <td>string</td>\n",
       "      <td>functional</td>\n",
       "      <td>6.0</td>\n",
       "      <td>M386,111c0,-5 0,10 0,15c0,10 0,20 0,30c0,19 0,...</td>\n",
       "      <td>152.076427</td>\n",
       "    </tr>\n",
       "    <tr>\n",
       "      <th>4494</th>\n",
       "      <td>pulleys_2.9810-988306f1-19e0-4158-a007-261fc2d...</td>\n",
       "      <td>10</td>\n",
       "      <td>depictive</td>\n",
       "      <td>9810-988306f1-19e0-4158-a007-261fc2d3ae0b</td>\n",
       "      <td>wheel</td>\n",
       "      <td>causal</td>\n",
       "      <td>1.0</td>\n",
       "      <td>M258,22c-5.3108,-5.3108 -13.60541,31.19729 -8,...</td>\n",
       "      <td>153.588471</td>\n",
       "    </tr>\n",
       "    <tr>\n",
       "      <th>4495</th>\n",
       "      <td>pulleys_2.9810-988306f1-19e0-4158-a007-261fc2d...</td>\n",
       "      <td>11</td>\n",
       "      <td>depictive</td>\n",
       "      <td>9810-988306f1-19e0-4158-a007-261fc2d3ae0b</td>\n",
       "      <td>wheel</td>\n",
       "      <td>causal</td>\n",
       "      <td>2.0</td>\n",
       "      <td>M263,38c4.67856,0 1.75173,9.38223 1,14c-1.7544...</td>\n",
       "      <td>376.025906</td>\n",
       "    </tr>\n",
       "    <tr>\n",
       "      <th>4496</th>\n",
       "      <td>pulleys_2.9810-988306f1-19e0-4158-a007-261fc2d...</td>\n",
       "      <td>12</td>\n",
       "      <td>depictive</td>\n",
       "      <td>9810-988306f1-19e0-4158-a007-261fc2d3ae0b</td>\n",
       "      <td>wheel</td>\n",
       "      <td>functional</td>\n",
       "      <td>4.0</td>\n",
       "      <td>M388,241c0,12.18262 -30.3183,24.3634 -22,41c4....</td>\n",
       "      <td>169.542359</td>\n",
       "    </tr>\n",
       "  </tbody>\n",
       "</table>\n",
       "<p>4445 rows × 9 columns</p>\n",
       "</div>"
      ],
      "text/plain": [
       "                                               sketchID  strokeIndex  \\\n",
       "0     gears_1.0219-e77f751a-a934-4602-97a0-f2c0bd8bd638            0   \n",
       "1     gears_1.0219-e77f751a-a934-4602-97a0-f2c0bd8bd638            1   \n",
       "2     gears_1.0366-5aa209bd-fda5-4afd-b896-9371d73ab1df            0   \n",
       "3     gears_1.0366-5aa209bd-fda5-4afd-b896-9371d73ab1df            1   \n",
       "4     gears_1.0366-5aa209bd-fda5-4afd-b896-9371d73ab1df            2   \n",
       "...                                                 ...          ...   \n",
       "4492  pulleys_2.9810-988306f1-19e0-4158-a007-261fc2d...            8   \n",
       "4493  pulleys_2.9810-988306f1-19e0-4158-a007-261fc2d...            9   \n",
       "4494  pulleys_2.9810-988306f1-19e0-4158-a007-261fc2d...           10   \n",
       "4495  pulleys_2.9810-988306f1-19e0-4158-a007-261fc2d...           11   \n",
       "4496  pulleys_2.9810-988306f1-19e0-4158-a007-261fc2d...           12   \n",
       "\n",
       "        condition                                orig_gameID strokeLabel  \\\n",
       "0     explanatory  0219-e77f751a-a934-4602-97a0-f2c0bd8bd638        gear   \n",
       "1     explanatory  0219-e77f751a-a934-4602-97a0-f2c0bd8bd638        gear   \n",
       "2       depictive  0366-5aa209bd-fda5-4afd-b896-9371d73ab1df  background   \n",
       "3       depictive  0366-5aa209bd-fda5-4afd-b896-9371d73ab1df        gear   \n",
       "4       depictive  0366-5aa209bd-fda5-4afd-b896-9371d73ab1df        gear   \n",
       "...           ...                                        ...         ...   \n",
       "4492    depictive  9810-988306f1-19e0-4158-a007-261fc2d3ae0b       wheel   \n",
       "4493    depictive  9810-988306f1-19e0-4158-a007-261fc2d3ae0b      string   \n",
       "4494    depictive  9810-988306f1-19e0-4158-a007-261fc2d3ae0b       wheel   \n",
       "4495    depictive  9810-988306f1-19e0-4158-a007-261fc2d3ae0b       wheel   \n",
       "4496    depictive  9810-988306f1-19e0-4158-a007-261fc2d3ae0b       wheel   \n",
       "\n",
       "      strokeType  strokeRoiNum  \\\n",
       "0         causal           4.0   \n",
       "1         causal           3.0   \n",
       "2     background           5.0   \n",
       "3     functional           1.0   \n",
       "4     functional           1.0   \n",
       "...          ...           ...   \n",
       "4492  functional           3.0   \n",
       "4493  functional           6.0   \n",
       "4494      causal           1.0   \n",
       "4495      causal           2.0   \n",
       "4496  functional           4.0   \n",
       "\n",
       "                                                    svg    arcLength  \n",
       "0     M315,266c0,3.66667 0,7.33333 0,11c0,3 0,6 0,9c...   937.999262  \n",
       "1     M253,190c16.21414,0 17.30774,1.30774 28,12c2.5...  1450.279985  \n",
       "2     M176,245c0,-11.78835 -0.1136,-106.8864 0,-107c...   671.450565  \n",
       "3     M209,167c-11.32421,0 -26.73795,-4.78615 -31,8c...   252.747348  \n",
       "4     M201,198c0,0.23509 -3.72683,25.72683 8,14c2.31...    55.661950  \n",
       "...                                                 ...          ...  \n",
       "4492  M386,81c-0.66667,0.33333 -1.4274,0.52283 -2,1c...   120.559612  \n",
       "4493  M386,111c0,-5 0,10 0,15c0,10 0,20 0,30c0,19 0,...   152.076427  \n",
       "4494  M258,22c-5.3108,-5.3108 -13.60541,31.19729 -8,...   153.588471  \n",
       "4495  M263,38c4.67856,0 1.75173,9.38223 1,14c-1.7544...   376.025906  \n",
       "4496  M388,241c0,12.18262 -30.3183,24.3634 -22,41c4....   169.542359  \n",
       "\n",
       "[4445 rows x 9 columns]"
      ]
     },
     "execution_count": 2,
     "metadata": {},
     "output_type": "execute_result"
    }
   ],
   "source": [
    "base_dir = './../'\n",
    "csv_dir = os.path.join(base_dir, \"results\", \"csv\")\n",
    "svg_dir = os.path.join(base_dir, \"results\", \"svg\")\n",
    "png_dir = os.path.join(base_dir, \"results\", \"png\")\n",
    "roi_dir = os.path.join(base_dir, \"results\", \"roi\")\n",
    "df = pd.read_csv(os.path.join(csv_dir, \"causaldraw_annotation_preprocessed_final_svg_data.csv\"), index_col=0)\n",
    "df"
   ]
  },
  {
   "cell_type": "code",
   "execution_count": 3,
   "metadata": {
    "execution": {
     "iopub.execute_input": "2021-07-16T16:13:58.229391Z",
     "iopub.status.busy": "2021-07-16T16:13:58.229276Z",
     "iopub.status.idle": "2021-07-16T16:13:58.232129Z",
     "shell.execute_reply": "2021-07-16T16:13:58.231738Z",
     "shell.execute_reply.started": "2021-07-16T16:13:58.229377Z"
    },
    "tags": []
   },
   "outputs": [],
   "source": [
    "Path(svg_dir).mkdir(parents=True, exist_ok=False)\n",
    "Path(png_dir).mkdir(parents=True, exist_ok=False)\n",
    "Path(roi_dir).mkdir(parents=True, exist_ok=False)"
   ]
  },
  {
   "cell_type": "code",
   "execution_count": 4,
   "metadata": {
    "execution": {
     "iopub.execute_input": "2021-07-16T16:13:58.232883Z",
     "iopub.status.busy": "2021-07-16T16:13:58.232773Z",
     "iopub.status.idle": "2021-07-16T16:14:00.733407Z",
     "shell.execute_reply": "2021-07-16T16:14:00.732952Z",
     "shell.execute_reply.started": "2021-07-16T16:13:58.232870Z"
    },
    "tags": []
   },
   "outputs": [
    {
     "name": "stderr",
     "output_type": "stream",
     "text": [
      "100%|██████████| 4445/4445 [00:02<00:00, 1785.45it/s]\n"
     ]
    }
   ],
   "source": [
    "for i, row in tqdm(df.iterrows(), total=len(df)):\n",
    "    \n",
    "    sketch_id = row[\"sketchID\"].replace(\"_\", \"-\")\n",
    "    stroke_idx = row[\"strokeIndex\"]\n",
    "    \n",
    "    stroke_label = row[\"strokeLabel\"]\n",
    "    stroke_type = row[\"strokeType\"]\n",
    "     \n",
    "    stroke_roi = row[\"strokeRoiNum\"]\n",
    "    if pd.isna(stroke_roi):\n",
    "        stroke_roi = 0\n",
    "    else:\n",
    "        stroke_roi = int(stroke_roi)\n",
    "        \n",
    "    stroke_path = row[\"svg\"]\n",
    "    stroke_path = svgpathtools.parse_path(stroke_path)\n",
    "    \n",
    "    stroke_name = os.path.join(svg_dir, \"%s_%02d_%s_%s_%d.svg\" % (sketch_id, \n",
    "                                                                  stroke_idx, \n",
    "                                                                  stroke_label,\n",
    "                                                                  stroke_type,\n",
    "                                                                  stroke_roi))\n",
    "    if os.path.exists(stroke_name):\n",
    "        print(i, stroke_name)\n",
    "    svgpathtools.wsvg(paths=stroke_path, \n",
    "                      attributes=[{'stroke-width': 5,\n",
    "                                   'stroke-linecap': \"round\",\n",
    "                                   'stroke': \"black\",\n",
    "                                   'fill': \"none\"}],\n",
    "                      viewbox=(0, 0, 500, 500),\n",
    "                      filename=stroke_name)"
   ]
  },
  {
   "cell_type": "code",
   "execution_count": 5,
   "metadata": {
    "execution": {
     "iopub.execute_input": "2021-07-16T16:14:00.734212Z",
     "iopub.status.busy": "2021-07-16T16:14:00.734091Z",
     "iopub.status.idle": "2021-07-16T16:14:49.730078Z",
     "shell.execute_reply": "2021-07-16T16:14:49.729088Z",
     "shell.execute_reply.started": "2021-07-16T16:14:00.734197Z"
    },
    "tags": []
   },
   "outputs": [
    {
     "name": "stderr",
     "output_type": "stream",
     "text": [
      "100%|██████████| 4445/4445 [00:48<00:00, 90.75it/s]\n"
     ]
    }
   ],
   "source": [
    "svg_files = glob.glob(os.path.join(svg_dir, \"*.svg\"))\n",
    "for svg_file in tqdm(svg_files):\n",
    "    svg2png(url=svg_file, \n",
    "            write_to=os.path.join(png_dir, \n",
    "                                  os.path.basename(svg_file)[:-3] + \"png\"))"
   ]
  },
  {
   "cell_type": "code",
   "execution_count": 6,
   "metadata": {
    "execution": {
     "iopub.execute_input": "2021-07-16T16:14:49.733065Z",
     "iopub.status.busy": "2021-07-16T16:14:49.732720Z",
     "iopub.status.idle": "2021-07-16T16:14:49.769978Z",
     "shell.execute_reply": "2021-07-16T16:14:49.769087Z",
     "shell.execute_reply.started": "2021-07-16T16:14:49.733022Z"
    },
    "tags": []
   },
   "outputs": [
    {
     "name": "stderr",
     "output_type": "stream",
     "text": [
      "100%|██████████| 4445/4445 [00:00<00:00, 471180.78it/s]\n"
     ]
    }
   ],
   "source": [
    "png_files = glob.glob(os.path.join(png_dir, \"*.png\"))\n",
    "roi_dict = defaultdict(list)\n",
    "\n",
    "for png_file in tqdm(png_files):\n",
    "    sketch_id, stroke_idx, stroke_label, stroke_type, stroke_roi = os.path.basename(png_file)[:-4].split(\"_\")\n",
    "    roi_dict[(sketch_id, stroke_roi)].append(png_file)"
   ]
  },
  {
   "cell_type": "code",
   "execution_count": 7,
   "metadata": {
    "execution": {
     "iopub.execute_input": "2021-07-16T16:14:49.771047Z",
     "iopub.status.busy": "2021-07-16T16:14:49.770890Z",
     "iopub.status.idle": "2021-07-16T16:15:01.689976Z",
     "shell.execute_reply": "2021-07-16T16:15:01.689494Z",
     "shell.execute_reply.started": "2021-07-16T16:14:49.771029Z"
    },
    "tags": []
   },
   "outputs": [
    {
     "name": "stderr",
     "output_type": "stream",
     "text": [
      "100%|██████████| 1453/1453 [00:11<00:00, 121.96it/s]\n"
     ]
    }
   ],
   "source": [
    "for key, sub_files in tqdm(roi_dict.items()):\n",
    "    img = np.zeros((500, 500))\n",
    "    for sub_file in sub_files:\n",
    "        sub_img = cv2.imread(sub_file, cv2.IMREAD_UNCHANGED)\n",
    "        sub_img = sub_img[..., 3] / 255\n",
    "        img = img + sub_img\n",
    "    img = np.clip(img, 0, 1.0) * 255\n",
    "    img = np.uint8(img)\n",
    "    filename = key[0] + \"_\" + key[1] + \".png\"\n",
    "    filename = os.path.join(roi_dir, filename)\n",
    "    cv2.imwrite(filename, img)"
   ]
  }
 ],
 "metadata": {
  "kernelspec": {
   "display_name": "Python 3",
   "language": "python",
   "name": "python3"
  },
  "language_info": {
   "codemirror_mode": {
    "name": "ipython",
    "version": 3
   },
   "file_extension": ".py",
   "mimetype": "text/x-python",
   "name": "python",
   "nbconvert_exporter": "python",
   "pygments_lexer": "ipython3",
   "version": "3.8.8"
  },
  "widgets": {
   "application/vnd.jupyter.widget-state+json": {
    "state": {},
    "version_major": 2,
    "version_minor": 0
   }
  }
 },
 "nbformat": 4,
 "nbformat_minor": 4
}
